{
  "nbformat": 4,
  "nbformat_minor": 0,
  "metadata": {
    "colab": {
      "name": "DownloadTweet.ipynb",
      "provenance": [],
      "collapsed_sections": [],
      "include_colab_link": true
    },
    "kernelspec": {
      "name": "python3",
      "display_name": "Python 3"
    }
  },
  "cells": [
    {
      "cell_type": "markdown",
      "metadata": {
        "id": "view-in-github",
        "colab_type": "text"
      },
      "source": [
        "<a href=\"https://colab.research.google.com/github/JCarlosSL/discussion_opinion_analysis/blob/master/DownloadTweet.ipynb\" target=\"_parent\"><img src=\"https://colab.research.google.com/assets/colab-badge.svg\" alt=\"Open In Colab\"/></a>"
      ]
    },
    {
      "cell_type": "code",
      "metadata": {
        "id": "AqydMFJ5xqMN",
        "colab_type": "code",
        "colab": {}
      },
      "source": [
        "from google.colab import drive\n",
        "drive.mount('/content/drive')"
      ],
      "execution_count": null,
      "outputs": []
    },
    {
      "cell_type": "code",
      "metadata": {
        "id": "r9i5KCIUk5XP",
        "colab_type": "code",
        "colab": {}
      },
      "source": [
        "import tweepy\n",
        "import datetime\n",
        "import sys\n",
        "\n",
        "API_key = 'dgeI7HnupuGL4lDFRIbTobAzk' \n",
        "API_secret_key = 'ZhO2nirv1wMqq9RqW0DlvcqU79Pq3bz5FNqC13hRxuUZQoGgjd'\n",
        "Access_token = '975491031478296577-tXQ3jTJUGubeWlrdpwqg6CKGLKeKvhv'\n",
        "Access_token_secret = '9W1d0VBuQMC4VgE0At2JruncQS4KUioK4uVq7HXTfkM97'\n",
        "\n",
        "auth = tweepy.OAuthHandler(API_key, API_secret_key)\n",
        "auth.set_access_token(Access_token, Access_token_secret)\n",
        "\n",
        "api = tweepy.API(auth)\n",
        "\n",
        "#now the data is collected in the data.txt file"
      ],
      "execution_count": null,
      "outputs": []
    },
    {
      "cell_type": "code",
      "metadata": {
        "id": "vF0NNmHaCse5",
        "colab_type": "code",
        "colab": {}
      },
      "source": [
        "!rm *.tsv\n"
      ],
      "execution_count": null,
      "outputs": []
    },
    {
      "cell_type": "code",
      "metadata": {
        "id": "rXh7_1WwxKHJ",
        "colab_type": "code",
        "colab": {}
      },
      "source": [
        "file = open('data.txt', 'w')\n",
        "n = 0\n",
        "tweets_1 = tweepy.Cursor(api.search, q = 'COVID-19').items(1000)\n",
        "print(tweets_1)\n",
        "for tweet in tweets_1:\n",
        "  n=n+1\n",
        "  file.write('COVID-19,')\n",
        "  file.write(str(n)+',')\n",
        "  file.write(str(tweet.id)+',')\n",
        "  file.write(str(tweet.author.name)+',')\n",
        "  # file.write(tweet,username+','),\n",
        "  file.write(str(tweet.created_at)+',')\n",
        "  file.write(tweet.text)\n",
        "  file.write('\\n\\n')\n",
        "  print()"
      ],
      "execution_count": null,
      "outputs": []
    },
    {
      "cell_type": "markdown",
      "metadata": {
        "id": "UZwmjdCj0Ugi",
        "colab_type": "text"
      },
      "source": [
        "## Download tweet"
      ]
    },
    {
      "cell_type": "code",
      "metadata": {
        "id": "n2awuNLCDU2t",
        "colab_type": "code",
        "colab": {
          "base_uri": "https://localhost:8080/",
          "height": 33
        },
        "outputId": "20b329a0-14cb-411f-8393-a882c0c855b3"
      },
      "source": [
        "import csv\n",
        "import tweepy\n",
        "import ssl\n",
        "import datetime\n",
        "ssl._create_default_https_context = ssl._create_unverified_context\n",
        "\n",
        "# Oauth keys\n",
        "consumer_key = \"JafJoAMSCwUZoliYTZyVaIBfQ\"\n",
        "consumer_secret = \"0oORIdmX9TgXqcVM0Whl7KhbfJKiDWMhCxtHIcrcZLwoGdppYd\"\n",
        "access_token = \"975491031478296577-K88CwhvceLRF6loLdgKup1j2vfv7TKc\"\n",
        "access_token_secret = \"JrGJVYBXBkRptlrjskBIHRoWhhpSKC3bRZYsa7RklBuzJ\"\n",
        "\n",
        "# Authentication with Twitter\n",
        "auth = tweepy.OAuthHandler(consumer_key, consumer_secret)\n",
        "auth.set_access_token(access_token, access_token_secret)\n",
        "api = tweepy.API(auth)\n",
        "\n",
        "# update these for the tweet you want to process replies to 'name' = the account username and you can find the tweet id within the tweet URL\n",
        "t_name = 'LuisSeminario94'\n",
        "t_tweet_id = '1290681068866228224'\n",
        "original_tweet = api.statuses_lookup([t_tweet_id]) # id_list is the list of tweet ids\n",
        "print(original_tweet[0].user.screen_name)\n",
        "# tweet=tweepy.Cursor(api.search,q='to'+name).items(1000)\n",
        "# if hasattr(tweet, 'in_reply_to_status_id_str'):\n",
        "#   print(original_tweet[0].text)\n",
        "startDate = datetime.datetime(2020,1, 1, 0, 0, 0)\n",
        "endDate =   datetime.datetime(2020,8, 12, 0, 0, 0)\n",
        "replies=[]\n",
        "for tweet in tweepy.Cursor(api.search,q='to:'+t_name,tweet_mode='extended').items(1000):\n",
        "  if hasattr(tweet, 'in_reply_to_status_id_str'):\n",
        "    if (tweet.in_reply_to_status_id_str==t_tweet_id):\n",
        "      replies.append(tweet)\n",
        "with open(t_name+t_tweet_id+'.tsv', 'w') as f:\n",
        "    csv_writer = csv.DictWriter(f,delimiter='\\t', fieldnames=('user-id', 'text','topic','thread-id','time','post-id','replyTo','replyBy'))\n",
        "    csv_writer.writeheader()\n",
        "    n=1\n",
        "    row = {'topic':'Cuestion-de-confianza','thread-id':n,'post-id':original_tweet[0].id,'user-id': t_name,'time':original_tweet[0].created_at,'text': original_tweet[0].text,'replyTo':'','replyBy':original_tweet[0].user.screen_name}\n",
        "    csv_writer.writerow(row)    \n",
        "    for tweet in replies:\n",
        "        row = {'topic':'Cuestion-de-confianza','thread-id':n,'post-id':tweet.id,'user-id': tweet.user.screen_name,'time':tweet.created_at,'text': tweet.full_text,'replyTo':original_tweet[0].user.screen_name,'replyBy':tweet.user.screen_name}\n",
        "        csv_writer.writerow(row)"
      ],
      "execution_count": null,
      "outputs": [
        {
          "output_type": "stream",
          "text": [
            "LuisSeminario94\n"
          ],
          "name": "stdout"
        }
      ]
    },
    {
      "cell_type": "code",
      "metadata": {
        "id": "VLXPtY5T2_KN",
        "colab_type": "code",
        "colab": {
          "base_uri": "https://localhost:8080/",
          "height": 339
        },
        "outputId": "2bb1740e-72ab-42b8-e3c6-da0863d907c1"
      },
      "source": [
        "\n",
        "for tweet in tweepy.Cursor(api.search,q = \"google\",since = \"2020-07-01\",until = \"2020-07-03\",lang = \"en\").items():\n",
        "  print(tweet.created_at)"
      ],
      "execution_count": null,
      "outputs": [
        {
          "output_type": "error",
          "ename": "TweepError",
          "evalue": "ignored",
          "traceback": [
            "\u001b[0;31m---------------------------------------------------------------------------\u001b[0m",
            "\u001b[0;31mTweepError\u001b[0m                                Traceback (most recent call last)",
            "\u001b[0;32m<ipython-input-69-219263512e4b>\u001b[0m in \u001b[0;36m<module>\u001b[0;34m()\u001b[0m\n\u001b[1;32m      1\u001b[0m \u001b[0;34m\u001b[0m\u001b[0m\n\u001b[0;32m----> 2\u001b[0;31m \u001b[0;32mfor\u001b[0m \u001b[0mtweet\u001b[0m \u001b[0;32min\u001b[0m \u001b[0mtweepy\u001b[0m\u001b[0;34m.\u001b[0m\u001b[0mCursor\u001b[0m\u001b[0;34m(\u001b[0m\u001b[0mapi\u001b[0m\u001b[0;34m.\u001b[0m\u001b[0msearch\u001b[0m\u001b[0;34m,\u001b[0m\u001b[0mq\u001b[0m \u001b[0;34m=\u001b[0m \u001b[0;34m\"google\"\u001b[0m\u001b[0;34m,\u001b[0m\u001b[0msince\u001b[0m \u001b[0;34m=\u001b[0m \u001b[0;34m\"2020-07-01\"\u001b[0m\u001b[0;34m,\u001b[0m\u001b[0muntil\u001b[0m \u001b[0;34m=\u001b[0m \u001b[0;34m\"2020-07-03\"\u001b[0m\u001b[0;34m,\u001b[0m\u001b[0mlang\u001b[0m \u001b[0;34m=\u001b[0m \u001b[0;34m\"en\"\u001b[0m\u001b[0;34m)\u001b[0m\u001b[0;34m.\u001b[0m\u001b[0mitems\u001b[0m\u001b[0;34m(\u001b[0m\u001b[0;34m)\u001b[0m\u001b[0;34m:\u001b[0m\u001b[0;34m\u001b[0m\u001b[0;34m\u001b[0m\u001b[0m\n\u001b[0m\u001b[1;32m      3\u001b[0m   \u001b[0mprint\u001b[0m\u001b[0;34m(\u001b[0m\u001b[0mtweet\u001b[0m\u001b[0;34m.\u001b[0m\u001b[0mcreated_at\u001b[0m\u001b[0;34m)\u001b[0m\u001b[0;34m\u001b[0m\u001b[0;34m\u001b[0m\u001b[0m\n",
            "\u001b[0;32m/usr/local/lib/python3.6/dist-packages/tweepy/cursor.py\u001b[0m in \u001b[0;36m__next__\u001b[0;34m(self)\u001b[0m\n\u001b[1;32m     47\u001b[0m \u001b[0;34m\u001b[0m\u001b[0m\n\u001b[1;32m     48\u001b[0m     \u001b[0;32mdef\u001b[0m \u001b[0m__next__\u001b[0m\u001b[0;34m(\u001b[0m\u001b[0mself\u001b[0m\u001b[0;34m)\u001b[0m\u001b[0;34m:\u001b[0m\u001b[0;34m\u001b[0m\u001b[0;34m\u001b[0m\u001b[0m\n\u001b[0;32m---> 49\u001b[0;31m         \u001b[0;32mreturn\u001b[0m \u001b[0mself\u001b[0m\u001b[0;34m.\u001b[0m\u001b[0mnext\u001b[0m\u001b[0;34m(\u001b[0m\u001b[0;34m)\u001b[0m\u001b[0;34m\u001b[0m\u001b[0;34m\u001b[0m\u001b[0m\n\u001b[0m\u001b[1;32m     50\u001b[0m \u001b[0;34m\u001b[0m\u001b[0m\n\u001b[1;32m     51\u001b[0m     \u001b[0;32mdef\u001b[0m \u001b[0mnext\u001b[0m\u001b[0;34m(\u001b[0m\u001b[0mself\u001b[0m\u001b[0;34m)\u001b[0m\u001b[0;34m:\u001b[0m\u001b[0;34m\u001b[0m\u001b[0;34m\u001b[0m\u001b[0m\n",
            "\u001b[0;32m/usr/local/lib/python3.6/dist-packages/tweepy/cursor.py\u001b[0m in \u001b[0;36mnext\u001b[0;34m(self)\u001b[0m\n\u001b[1;32m    195\u001b[0m         \u001b[0;32mif\u001b[0m \u001b[0mself\u001b[0m\u001b[0;34m.\u001b[0m\u001b[0mcurrent_page\u001b[0m \u001b[0;32mis\u001b[0m \u001b[0;32mNone\u001b[0m \u001b[0;32mor\u001b[0m \u001b[0mself\u001b[0m\u001b[0;34m.\u001b[0m\u001b[0mpage_index\u001b[0m \u001b[0;34m==\u001b[0m \u001b[0mlen\u001b[0m\u001b[0;34m(\u001b[0m\u001b[0mself\u001b[0m\u001b[0;34m.\u001b[0m\u001b[0mcurrent_page\u001b[0m\u001b[0;34m)\u001b[0m \u001b[0;34m-\u001b[0m \u001b[0;36m1\u001b[0m\u001b[0;34m:\u001b[0m\u001b[0;34m\u001b[0m\u001b[0;34m\u001b[0m\u001b[0m\n\u001b[1;32m    196\u001b[0m             \u001b[0;31m# Reached end of current page, get the next page...\u001b[0m\u001b[0;34m\u001b[0m\u001b[0;34m\u001b[0m\u001b[0;34m\u001b[0m\u001b[0m\n\u001b[0;32m--> 197\u001b[0;31m             \u001b[0mself\u001b[0m\u001b[0;34m.\u001b[0m\u001b[0mcurrent_page\u001b[0m \u001b[0;34m=\u001b[0m \u001b[0mself\u001b[0m\u001b[0;34m.\u001b[0m\u001b[0mpage_iterator\u001b[0m\u001b[0;34m.\u001b[0m\u001b[0mnext\u001b[0m\u001b[0;34m(\u001b[0m\u001b[0;34m)\u001b[0m\u001b[0;34m\u001b[0m\u001b[0;34m\u001b[0m\u001b[0m\n\u001b[0m\u001b[1;32m    198\u001b[0m             \u001b[0mself\u001b[0m\u001b[0;34m.\u001b[0m\u001b[0mpage_index\u001b[0m \u001b[0;34m=\u001b[0m \u001b[0;34m-\u001b[0m\u001b[0;36m1\u001b[0m\u001b[0;34m\u001b[0m\u001b[0;34m\u001b[0m\u001b[0m\n\u001b[1;32m    199\u001b[0m         \u001b[0mself\u001b[0m\u001b[0;34m.\u001b[0m\u001b[0mpage_index\u001b[0m \u001b[0;34m+=\u001b[0m \u001b[0;36m1\u001b[0m\u001b[0;34m\u001b[0m\u001b[0;34m\u001b[0m\u001b[0m\n",
            "\u001b[0;32m/usr/local/lib/python3.6/dist-packages/tweepy/cursor.py\u001b[0m in \u001b[0;36mnext\u001b[0;34m(self)\u001b[0m\n\u001b[1;32m    106\u001b[0m \u001b[0;34m\u001b[0m\u001b[0m\n\u001b[1;32m    107\u001b[0m         \u001b[0;32mif\u001b[0m \u001b[0mself\u001b[0m\u001b[0;34m.\u001b[0m\u001b[0mindex\u001b[0m \u001b[0;34m>=\u001b[0m \u001b[0mlen\u001b[0m\u001b[0;34m(\u001b[0m\u001b[0mself\u001b[0m\u001b[0;34m.\u001b[0m\u001b[0mresults\u001b[0m\u001b[0;34m)\u001b[0m \u001b[0;34m-\u001b[0m \u001b[0;36m1\u001b[0m\u001b[0;34m:\u001b[0m\u001b[0;34m\u001b[0m\u001b[0;34m\u001b[0m\u001b[0m\n\u001b[0;32m--> 108\u001b[0;31m             \u001b[0mdata\u001b[0m \u001b[0;34m=\u001b[0m \u001b[0mself\u001b[0m\u001b[0;34m.\u001b[0m\u001b[0mmethod\u001b[0m\u001b[0;34m(\u001b[0m\u001b[0mmax_id\u001b[0m\u001b[0;34m=\u001b[0m\u001b[0mself\u001b[0m\u001b[0;34m.\u001b[0m\u001b[0mmax_id\u001b[0m\u001b[0;34m,\u001b[0m \u001b[0mparser\u001b[0m\u001b[0;34m=\u001b[0m\u001b[0mRawParser\u001b[0m\u001b[0;34m(\u001b[0m\u001b[0;34m)\u001b[0m\u001b[0;34m,\u001b[0m \u001b[0;34m*\u001b[0m\u001b[0mself\u001b[0m\u001b[0;34m.\u001b[0m\u001b[0margs\u001b[0m\u001b[0;34m,\u001b[0m \u001b[0;34m**\u001b[0m\u001b[0mself\u001b[0m\u001b[0;34m.\u001b[0m\u001b[0mkargs\u001b[0m\u001b[0;34m)\u001b[0m\u001b[0;34m\u001b[0m\u001b[0;34m\u001b[0m\u001b[0m\n\u001b[0m\u001b[1;32m    109\u001b[0m \u001b[0;34m\u001b[0m\u001b[0m\n\u001b[1;32m    110\u001b[0m             \u001b[0;32mif\u001b[0m \u001b[0mhasattr\u001b[0m\u001b[0;34m(\u001b[0m\u001b[0mself\u001b[0m\u001b[0;34m.\u001b[0m\u001b[0mmethod\u001b[0m\u001b[0;34m,\u001b[0m \u001b[0;34m'__self__'\u001b[0m\u001b[0;34m)\u001b[0m\u001b[0;34m:\u001b[0m\u001b[0;34m\u001b[0m\u001b[0;34m\u001b[0m\u001b[0m\n",
            "\u001b[0;32m/usr/local/lib/python3.6/dist-packages/tweepy/binder.py\u001b[0m in \u001b[0;36m_call\u001b[0;34m(*args, **kwargs)\u001b[0m\n\u001b[1;32m    248\u001b[0m             \u001b[0;32mreturn\u001b[0m \u001b[0mmethod\u001b[0m\u001b[0;34m\u001b[0m\u001b[0;34m\u001b[0m\u001b[0m\n\u001b[1;32m    249\u001b[0m         \u001b[0;32melse\u001b[0m\u001b[0;34m:\u001b[0m\u001b[0;34m\u001b[0m\u001b[0;34m\u001b[0m\u001b[0m\n\u001b[0;32m--> 250\u001b[0;31m             \u001b[0;32mreturn\u001b[0m \u001b[0mmethod\u001b[0m\u001b[0;34m.\u001b[0m\u001b[0mexecute\u001b[0m\u001b[0;34m(\u001b[0m\u001b[0;34m)\u001b[0m\u001b[0;34m\u001b[0m\u001b[0;34m\u001b[0m\u001b[0m\n\u001b[0m\u001b[1;32m    251\u001b[0m \u001b[0;34m\u001b[0m\u001b[0m\n\u001b[1;32m    252\u001b[0m     \u001b[0;31m# Set pagination mode\u001b[0m\u001b[0;34m\u001b[0m\u001b[0;34m\u001b[0m\u001b[0;34m\u001b[0m\u001b[0m\n",
            "\u001b[0;32m/usr/local/lib/python3.6/dist-packages/tweepy/binder.py\u001b[0m in \u001b[0;36mexecute\u001b[0;34m(self)\u001b[0m\n\u001b[1;32m    232\u001b[0m                     \u001b[0;32mraise\u001b[0m \u001b[0mRateLimitError\u001b[0m\u001b[0;34m(\u001b[0m\u001b[0merror_msg\u001b[0m\u001b[0;34m,\u001b[0m \u001b[0mresp\u001b[0m\u001b[0;34m)\u001b[0m\u001b[0;34m\u001b[0m\u001b[0;34m\u001b[0m\u001b[0m\n\u001b[1;32m    233\u001b[0m                 \u001b[0;32melse\u001b[0m\u001b[0;34m:\u001b[0m\u001b[0;34m\u001b[0m\u001b[0;34m\u001b[0m\u001b[0m\n\u001b[0;32m--> 234\u001b[0;31m                     \u001b[0;32mraise\u001b[0m \u001b[0mTweepError\u001b[0m\u001b[0;34m(\u001b[0m\u001b[0merror_msg\u001b[0m\u001b[0;34m,\u001b[0m \u001b[0mresp\u001b[0m\u001b[0;34m,\u001b[0m \u001b[0mapi_code\u001b[0m\u001b[0;34m=\u001b[0m\u001b[0mapi_error_code\u001b[0m\u001b[0;34m)\u001b[0m\u001b[0;34m\u001b[0m\u001b[0;34m\u001b[0m\u001b[0m\n\u001b[0m\u001b[1;32m    235\u001b[0m \u001b[0;34m\u001b[0m\u001b[0m\n\u001b[1;32m    236\u001b[0m             \u001b[0;31m# Parse the response payload\u001b[0m\u001b[0;34m\u001b[0m\u001b[0;34m\u001b[0m\u001b[0;34m\u001b[0m\u001b[0m\n",
            "\u001b[0;31mTweepError\u001b[0m: Twitter error response: status code = 429"
          ]
        }
      ]
    },
    {
      "cell_type": "code",
      "metadata": {
        "id": "lAabjh7PnIk-",
        "colab_type": "code",
        "colab": {
          "base_uri": "https://localhost:8080/",
          "height": 524
        },
        "outputId": "970a2986-fe4b-45a4-be36-2b16192bfe02"
      },
      "source": [
        "!pip uninstall twitter\n",
        "!pip install python-twitter"
      ],
      "execution_count": null,
      "outputs": [
        {
          "output_type": "stream",
          "text": [
            "Uninstalling twitter-1.18.0:\n",
            "  Would remove:\n",
            "    /usr/local/bin/twitter\n",
            "    /usr/local/bin/twitter-archiver\n",
            "    /usr/local/bin/twitter-follow\n",
            "    /usr/local/bin/twitter-log\n",
            "    /usr/local/bin/twitter-stream-example\n",
            "    /usr/local/bin/twitterbot\n",
            "    /usr/local/lib/python3.6/dist-packages/twitter-1.18.0.dist-info/*\n",
            "    /usr/local/lib/python3.6/dist-packages/twitter/*\n",
            "  Would not remove (might be manually added):\n",
            "    /usr/local/lib/python3.6/dist-packages/twitter/_file_cache.py\n",
            "    /usr/local/lib/python3.6/dist-packages/twitter/debug.py\n",
            "    /usr/local/lib/python3.6/dist-packages/twitter/error.py\n",
            "    /usr/local/lib/python3.6/dist-packages/twitter/models.py\n",
            "    /usr/local/lib/python3.6/dist-packages/twitter/parse_tweet.py\n",
            "    /usr/local/lib/python3.6/dist-packages/twitter/ratelimit.py\n",
            "    /usr/local/lib/python3.6/dist-packages/twitter/twitter_utils.py\n",
            "Proceed (y/n)? y\n",
            "  Successfully uninstalled twitter-1.18.0\n",
            "Requirement already satisfied: python-twitter in /usr/local/lib/python3.6/dist-packages (3.5)\n",
            "Requirement already satisfied: requests in /usr/local/lib/python3.6/dist-packages (from python-twitter) (2.23.0)\n",
            "Requirement already satisfied: future in /usr/local/lib/python3.6/dist-packages (from python-twitter) (0.16.0)\n",
            "Requirement already satisfied: requests-oauthlib in /usr/local/lib/python3.6/dist-packages (from python-twitter) (1.3.0)\n",
            "Requirement already satisfied: chardet<4,>=3.0.2 in /usr/local/lib/python3.6/dist-packages (from requests->python-twitter) (3.0.4)\n",
            "Requirement already satisfied: certifi>=2017.4.17 in /usr/local/lib/python3.6/dist-packages (from requests->python-twitter) (2020.6.20)\n",
            "Requirement already satisfied: idna<3,>=2.5 in /usr/local/lib/python3.6/dist-packages (from requests->python-twitter) (2.10)\n",
            "Requirement already satisfied: urllib3!=1.25.0,!=1.25.1,<1.26,>=1.21.1 in /usr/local/lib/python3.6/dist-packages (from requests->python-twitter) (1.24.3)\n",
            "Requirement already satisfied: oauthlib>=3.0.0 in /usr/local/lib/python3.6/dist-packages (from requests-oauthlib->python-twitter) (3.1.0)\n"
          ],
          "name": "stdout"
        }
      ]
    },
    {
      "cell_type": "code",
      "metadata": {
        "id": "fROs-qAAke75",
        "colab_type": "code",
        "colab": {
          "base_uri": "https://localhost:8080/",
          "height": 366
        },
        "outputId": "b7db47c4-d05d-4efd-e195-2054d2153f90"
      },
      "source": [
        "import sys\n",
        "import json\n",
        "import time\n",
        "import logging\n",
        "import twitter\n",
        "import urllib.parse\n",
        "\n",
        "from os import environ as e\n",
        "\n",
        "t = twitter.Api(\n",
        "    consumer_key=e[\"JafJoAMSCwUZoliYTZyVaIBfQ\"],\n",
        "    consumer_secret=e[\"0oORIdmX9TgXqcVM0Whl7KhbfJKiDWMhCxtHIcrcZLwoGdppYd\"],\n",
        "    access_token_key=e[\"975491031478296577-K88CwhvceLRF6loLdgKup1j2vfv7TKc\"],\n",
        "    access_token_secret=e[\"JrGJVYBXBkRptlrjskBIHRoWhhpSKC3bRZYsa7RklBuzJ\"],\n",
        "    #sleep_on_rate_limit=True\n",
        ")\n",
        "\n",
        "def tweet_url(t):\n",
        "    return \"https://twitter.com/%s/status/%s\" % (t.user.screen_name, t.id)\n",
        "\n",
        "def get_tweets(filename):\n",
        "    for line in open(filename):\n",
        "        yield twitter.Status.NewFromJsonDict(json.loads(line))\n",
        "\n",
        "def get_replies(tweet):\n",
        "    user = tweet.user.screen_name\n",
        "    tweet_id = tweet.id\n",
        "    max_id = None\n",
        "    logging.info(\"looking for replies to: %s\" % tweet_url(tweet))\n",
        "    while True:\n",
        "        q = urllib.parse.urlencode({\"q\": \"to:%s\" % user})\n",
        "        try:\n",
        "            replies = t.GetSearch(raw_query=q, since_id=tweet_id, max_id=max_id, count=100)\n",
        "        except twitter.error.TwitterError as e:\n",
        "            logging.error(\"caught twitter api error: %s\", e)\n",
        "            time.sleep(60)\n",
        "            continue\n",
        "        for reply in replies:\n",
        "            logging.info(\"examining: %s\" % tweet_url(reply))\n",
        "            if reply.in_reply_to_status_id == tweet_id:\n",
        "                logging.info(\"found reply: %s\" % tweet_url(reply))\n",
        "                yield reply\n",
        "                # recursive magic to also get the replies to this reply\n",
        "                for reply_to_reply in get_replies(reply):\n",
        "                    yield reply_to_reply\n",
        "            max_id = reply.id\n",
        "        if len(replies) != 100:\n",
        "            break\n",
        "\n",
        "if __name__ == \"__main__\":\n",
        "    logging.basicConfig(filename=\"replies.log\", level=logging.INFO)\n",
        "    tweets_file = sys.argv[1]\n",
        "    for tweet in get_tweets(tweets_file):\n",
        "        for reply in get_replies(tweet):\n",
        "            print(reply.AsJsonString())"
      ],
      "execution_count": null,
      "outputs": [
        {
          "output_type": "error",
          "ename": "ModuleNotFoundError",
          "evalue": "ignored",
          "traceback": [
            "\u001b[0;31m---------------------------------------------------------------------------\u001b[0m",
            "\u001b[0;31mModuleNotFoundError\u001b[0m                       Traceback (most recent call last)",
            "\u001b[0;32m<ipython-input-33-c50a1c14fdfd>\u001b[0m in \u001b[0;36m<module>\u001b[0;34m()\u001b[0m\n\u001b[1;32m      3\u001b[0m \u001b[0;32mimport\u001b[0m \u001b[0mtime\u001b[0m\u001b[0;34m\u001b[0m\u001b[0;34m\u001b[0m\u001b[0m\n\u001b[1;32m      4\u001b[0m \u001b[0;32mimport\u001b[0m \u001b[0mlogging\u001b[0m\u001b[0;34m\u001b[0m\u001b[0;34m\u001b[0m\u001b[0m\n\u001b[0;32m----> 5\u001b[0;31m \u001b[0;32mimport\u001b[0m \u001b[0mTwitter\u001b[0m\u001b[0;34m\u001b[0m\u001b[0;34m\u001b[0m\u001b[0m\n\u001b[0m\u001b[1;32m      6\u001b[0m \u001b[0;32mimport\u001b[0m \u001b[0murllib\u001b[0m\u001b[0;34m.\u001b[0m\u001b[0mparse\u001b[0m\u001b[0;34m\u001b[0m\u001b[0;34m\u001b[0m\u001b[0m\n\u001b[1;32m      7\u001b[0m \u001b[0;34m\u001b[0m\u001b[0m\n",
            "\u001b[0;31mModuleNotFoundError\u001b[0m: No module named 'Twitter'",
            "",
            "\u001b[0;31m---------------------------------------------------------------------------\u001b[0;32m\nNOTE: If your import is failing due to a missing package, you can\nmanually install dependencies using either !pip or !apt.\n\nTo view examples of installing some common dependencies, click the\n\"Open Examples\" button below.\n\u001b[0;31m---------------------------------------------------------------------------\u001b[0m\n"
          ]
        }
      ]
    },
    {
      "cell_type": "code",
      "metadata": {
        "id": "ZFWolfLVUIYT",
        "colab_type": "code",
        "colab": {}
      },
      "source": [
        "def print(index)\n",
        "  listl=[1,2,3,4]\n",
        "  if len(listl)==0\n",
        "    return\n",
        "  else\n",
        "    print(listl[:])"
      ],
      "execution_count": null,
      "outputs": []
    },
    {
      "cell_type": "code",
      "metadata": {
        "id": "HDAMPOxDxd3o",
        "colab_type": "code",
        "colab": {
          "base_uri": "https://localhost:8080/",
          "height": 33
        },
        "outputId": "18e3799a-4393-46d9-94f6-d71e9fe519e9"
      },
      "source": [
        "l=[1,2,3]\n",
        "l=l[:1]\n",
        "l\n"
      ],
      "execution_count": null,
      "outputs": [
        {
          "output_type": "execute_result",
          "data": {
            "text/plain": [
              "[1]"
            ]
          },
          "metadata": {
            "tags": []
          },
          "execution_count": 27
        }
      ]
    },
    {
      "cell_type": "code",
      "metadata": {
        "id": "YGEvvGlSv5fu",
        "colab_type": "code",
        "colab": {}
      },
      "source": [
        " row = {'topic':'Covid-19','Tread Id':str(n),'Post-Id':tweet.id,'user': tweet.user.screen_name,'Time':tweet.created_at, 'Text': tweet.text.replace('\\n',tweet., ' ')}\n",
        "       \n",
        "# Find the last tweet\n",
        "for page in tweepy.Cursor(api.user_timeline, id=\"253346744\").pages(1):\n",
        "    for item in page:\n",
        "        if item.in_reply_to_user_id_str == \"151791801\":\n",
        "            last_tweet = item"
      ],
      "execution_count": null,
      "outputs": []
    },
    {
      "cell_type": "code",
      "metadata": {
        "id": "p1Ej9Hh8v5Uf",
        "colab_type": "code",
        "colab": {
          "base_uri": "https://localhost:8080/",
          "height": 52
        },
        "outputId": "ad293fb5-948d-4349-c333-510f3e699f9c"
      },
      "source": [
        "import tweepy #https://github.com/tweepy/tweepy\n",
        "import csv\n",
        "\n",
        "#Credenciales del Twitter API\n",
        "consumer_key = \"dgeI7HnupuGL4lDFRIbTobAzk\"\n",
        "consumer_secret = \"ZhO2nirv1wMqq9RqW0DlvcqU79Pq3bz5FNqC13hRxuUZQoGgjd\"\n",
        "access_key = \"975491031478296577-tXQ3jTJUGubeWlrdpwqg6CKGLKeKvhv\"\n",
        "access_secret = \"9W1d0VBuQMC4VgE0At2JruncQS4KUioK4uVq7HXTfkM97\"\n",
        "\n",
        "#Remover los caracteres no imprimibles y los saltos de línea del texto del tweet\n",
        "def strip_undesired_chars(tweet):\n",
        "    stripped_tweet = tweet.replace('\\n', ' ').replace('\\r', '')\n",
        "    char_list = [stripped_tweet[j] for j in range(len(stripped_tweet)) if ord(stripped_tweet[j]) in range(65536)]\n",
        "    stripped_tweet=''\n",
        "    for j in char_list:\n",
        "        stripped_tweet=stripped_tweet+j\n",
        "    return stripped_tweet\n",
        "\n",
        "def get_all_tweets(screen_name):\n",
        "    #Este método solo tiene permitido descargar máximo los ultimos 3240 tweets del usuario\n",
        "    #Especificar aquí durante las pruebas un número entre 200 y 3240\n",
        "    limit_number = 3240\n",
        "    \n",
        "    #autorizar twitter, inicializar tweepy\n",
        "    auth = tweepy.OAuthHandler(consumer_key, consumer_secret)\n",
        "    auth.set_access_token(access_key, access_secret)\n",
        "    api = tweepy.API(auth)\n",
        "    \n",
        "    #inicializar una list to para almacenar los Tweets descargados por tweepy\n",
        "    alltweets = []    \n",
        "    \n",
        "    #Hacer una petición inicial por los 200 tweets más recientes (200 es el número máximo permitido)\n",
        "    new_tweets = api.user_timeline(screen_name = screen_name,count=200)\n",
        "\n",
        "    #guardar los tweets más recientes\n",
        "    alltweets.extend(new_tweets)\n",
        "    \n",
        "    #guardar el ID del tweet más antiguo menos 1\n",
        "    oldest = alltweets[-1].id - 1\n",
        "    \n",
        "    #recorrer todos los tweets en la cola hasta que no queden más\n",
        "    while len(new_tweets) > 0 and len(alltweets) <= limit_number:\n",
        "        print (\"getting tweets before\" + str(oldest))\n",
        "        \n",
        "        #en todas las peticiones siguientes usar el parámetro max_id para evitar duplicados\n",
        "        new_tweets = api.user_timeline(screen_name = screen_name,count=200,max_id=oldest)\n",
        "        \n",
        "        #guardar los tweets descargados\n",
        "        alltweets.extend(new_tweets)\n",
        "        \n",
        "        #actualizar el ID del tweet más antiguo menos 1\n",
        "        oldest = alltweets[-1].id - 1\n",
        "        \n",
        "        #informar en la consola como vamos\n",
        "        print (str(len(alltweets)) + \" tweets descargados hasta el momento\")\n",
        "    \n",
        "    #transformar los tweets descargados con tweepy en un arreglo 2D array que llenará el csv\n",
        "    outtweets = [(tweet.id_str,tweet.contributors ,tweet.created_at, strip_undesired_chars(tweet.text),tweet.retweet_count,str(tweet.favorite_count)+'') for tweet in alltweets]\n",
        "    \n",
        "    #escribir el csv    \n",
        "    with open('%s_tweets.csv' % screen_name, \"w\", newline='') as f:       \n",
        "        writer = csv.writer(f, quoting=csv.QUOTE_ALL)\n",
        "        writer.writerow(['id','contributors','created_at','text','retweet_count','favorite_count'''])\n",
        "        writer.writerows(outtweets)    \n",
        "    pass\n",
        "\n",
        "if __name__ == '__main__':\n",
        "    #especificar el nombre de usuario de la cuenta a la cual se descargarán los tweets\n",
        "    get_all_tweets(\"Agregar TwitterUser\")"
      ],
      "execution_count": null,
      "outputs": [
        {
          "output_type": "stream",
          "text": [
            "getting tweets before975493195021811712\n",
            "3 tweets descargados hasta el momento\n"
          ],
          "name": "stdout"
        }
      ]
    },
    {
      "cell_type": "markdown",
      "metadata": {
        "id": "Ht1eAeWo5wua",
        "colab_type": "text"
      },
      "source": [
        "## Directorio principal"
      ]
    },
    {
      "cell_type": "code",
      "metadata": {
        "id": "7V0nTnWi5thE",
        "colab_type": "code",
        "colab": {}
      },
      "source": [
        "workspace = '/content/drive/My Drive/Colab Notebooks/TopicosDBFinalProject/'\n",
        "data_dir = workspace + 'data/'"
      ],
      "execution_count": null,
      "outputs": []
    },
    {
      "cell_type": "markdown",
      "metadata": {
        "id": "NBde1FaO2smn",
        "colab_type": "text"
      },
      "source": [
        "# API translate (traductor): Proveedor MyMemory"
      ]
    },
    {
      "cell_type": "code",
      "metadata": {
        "id": "iyhNOBETun8e",
        "colab_type": "code",
        "colab": {}
      },
      "source": [
        "!pip install translate\n",
        "!pip install --upgrade \"ibm-watson>=4.5.0\""
      ],
      "execution_count": null,
      "outputs": []
    },
    {
      "cell_type": "code",
      "metadata": {
        "id": "aulrHCwdyELC",
        "colab_type": "code",
        "colab": {
          "base_uri": "https://localhost:8080/",
          "height": 34
        },
        "outputId": "602027e3-431d-4ab9-e2ac-b2ce91576a9a"
      },
      "source": [
        "from translate import Translator\n",
        "translator = Translator(provider='mymemory', from_lang='es' ,to_lang='en')\n",
        "line = translator.translate('el grupo criminal los mermeleros')\n",
        "print(line)"
      ],
      "execution_count": null,
      "outputs": [
        {
          "output_type": "stream",
          "text": [
            "the criminal group the mermeleros\n"
          ],
          "name": "stdout"
        }
      ]
    },
    {
      "cell_type": "markdown",
      "metadata": {
        "id": "6eHyu7ZX28Or",
        "colab_type": "text"
      },
      "source": [
        "# API IBM: analisis de sentimientos"
      ]
    },
    {
      "cell_type": "code",
      "metadata": {
        "id": "ct5v2Eb028iA",
        "colab_type": "code",
        "colab": {}
      },
      "source": [
        "import json\n",
        "import pandas as pd\n",
        "\n",
        "from ibm_watson import ToneAnalyzerV3\n",
        "from ibm_cloud_sdk_core.authenticators import IAMAuthenticator\n",
        "\n",
        "#read credential.json to extract key\n",
        "\n",
        "with open(workspace+'credentials.json') as f: \n",
        "  credentials = json.load(f)\n",
        "#print(credentials)\n",
        "\n",
        "#set IBM IAM token\n",
        "\n",
        "authenticator = IAMAuthenticator(credentials['apikey']) #autenthicate api server\n",
        "tone_analyzer = ToneAnalyzerV3(\n",
        "    version='2017-09-21',\n",
        "    authenticator=authenticator\n",
        ") #get tone analyzer\n",
        "\n",
        "tone_analyzer.set_service_url('https://api.us-south.tone-analyzer.watson.cloud.ibm.com') #endpoint Dallas\n",
        "tone_analyzer.set_disable_ssl_verification(True)\n",
        "\n",
        "text = 'Team, I know that times are tough! Product '\\\n",
        "    'sales have been disappointing for the past three '\\\n",
        "    'quarters. We have a competitive product, but we '\\\n",
        "    'need to do a better job of selling it!'\n",
        "\n",
        "tone_analysis = tone_analyzer.tone(\n",
        "    {'text': text},\n",
        "    content_type='application/json'\n",
        ").get_result()\n",
        "print(json.dumps(tone_analysis, indent=2))"
      ],
      "execution_count": null,
      "outputs": []
    },
    {
      "cell_type": "markdown",
      "metadata": {
        "id": "6ZfUwVUzwKPb",
        "colab_type": "text"
      },
      "source": [
        "# Google translate api"
      ]
    },
    {
      "cell_type": "code",
      "metadata": {
        "id": "3vzvt-NXxGvY",
        "colab_type": "code",
        "colab": {}
      },
      "source": [
        "!pip install googletrans"
      ],
      "execution_count": null,
      "outputs": []
    },
    {
      "cell_type": "code",
      "metadata": {
        "id": "X_g-QIXrwJRj",
        "colab_type": "code",
        "colab": {}
      },
      "source": [
        "import pandas as pd\n",
        "import googletrans\n",
        "from googletrans import Translator"
      ],
      "execution_count": null,
      "outputs": []
    },
    {
      "cell_type": "code",
      "metadata": {
        "id": "n7lKelwPxKPo",
        "colab_type": "code",
        "colab": {
          "base_uri": "https://localhost:8080/",
          "height": 535
        },
        "outputId": "a7505ce3-7435-4cf2-8902-3d3dc6e3c825"
      },
      "source": [
        "df = pd.read_csv('MariaCespedesc1290657735005081600.tsv',sep='\\t')\n",
        "df.head(10)"
      ],
      "execution_count": null,
      "outputs": [
        {
          "output_type": "execute_result",
          "data": {
            "text/html": [
              "<div>\n",
              "<style scoped>\n",
              "    .dataframe tbody tr th:only-of-type {\n",
              "        vertical-align: middle;\n",
              "    }\n",
              "\n",
              "    .dataframe tbody tr th {\n",
              "        vertical-align: top;\n",
              "    }\n",
              "\n",
              "    .dataframe thead th {\n",
              "        text-align: right;\n",
              "    }\n",
              "</style>\n",
              "<table border=\"1\" class=\"dataframe\">\n",
              "  <thead>\n",
              "    <tr style=\"text-align: right;\">\n",
              "      <th></th>\n",
              "      <th>user-id</th>\n",
              "      <th>text</th>\n",
              "      <th>topic</th>\n",
              "      <th>thread-id</th>\n",
              "      <th>time</th>\n",
              "      <th>post-id</th>\n",
              "      <th>replyTo</th>\n",
              "      <th>replyBy</th>\n",
              "    </tr>\n",
              "  </thead>\n",
              "  <tbody>\n",
              "    <tr>\n",
              "      <th>0</th>\n",
              "      <td>MariaCespedesc</td>\n",
              "      <td>#VotoDeConfianza La @FrepapBancada consecuente...</td>\n",
              "      <td>Cuestion-de-confianza</td>\n",
              "      <td>1</td>\n",
              "      <td>2020-08-04 14:35:57</td>\n",
              "      <td>1290657735005081600</td>\n",
              "      <td>NaN</td>\n",
              "      <td>MariaCespedesc</td>\n",
              "    </tr>\n",
              "    <tr>\n",
              "      <th>1</th>\n",
              "      <td>TEXRA2</td>\n",
              "      <td>Después de decepcionar al país dando el voto ...</td>\n",
              "      <td>Cuestion-de-confianza</td>\n",
              "      <td>1</td>\n",
              "      <td>2020-08-05 16:58:39</td>\n",
              "      <td>1291056034081959937</td>\n",
              "      <td>MariaCespedesc</td>\n",
              "      <td>TEXRA2</td>\n",
              "    </tr>\n",
              "    <tr>\n",
              "      <th>2</th>\n",
              "      <td>TEXRA2</td>\n",
              "      <td>Que la red criminal los mermeleros, que tiene...</td>\n",
              "      <td>Cuestion-de-confianza</td>\n",
              "      <td>1</td>\n",
              "      <td>2020-08-05 16:53:52</td>\n",
              "      <td>1291054828198731777</td>\n",
              "      <td>MariaCespedesc</td>\n",
              "      <td>TEXRA2</td>\n",
              "    </tr>\n",
              "    <tr>\n",
              "      <th>3</th>\n",
              "      <td>vivefash</td>\n",
              "      <td>Que Dios y sus conciencias y el pueblo los ju...</td>\n",
              "      <td>Cuestion-de-confianza</td>\n",
              "      <td>1</td>\n",
              "      <td>2020-08-05 14:29:13</td>\n",
              "      <td>1291018425456889858</td>\n",
              "      <td>MariaCespedesc</td>\n",
              "      <td>vivefash</td>\n",
              "    </tr>\n",
              "    <tr>\n",
              "      <th>4</th>\n",
              "      <td>Jose99092853</td>\n",
              "      <td>Hasta el momento él FREPAP está dando la hora...</td>\n",
              "      <td>Cuestion-de-confianza</td>\n",
              "      <td>1</td>\n",
              "      <td>2020-08-05 13:03:15</td>\n",
              "      <td>1290996791618437120</td>\n",
              "      <td>MariaCespedesc</td>\n",
              "      <td>Jose99092853</td>\n",
              "    </tr>\n",
              "    <tr>\n",
              "      <th>5</th>\n",
              "      <td>Barbayerba</td>\n",
              "      <td>Que pena que se unieron a lo peor del congres...</td>\n",
              "      <td>Cuestion-de-confianza</td>\n",
              "      <td>1</td>\n",
              "      <td>2020-08-05 12:21:50</td>\n",
              "      <td>1290986371419643904</td>\n",
              "      <td>MariaCespedesc</td>\n",
              "      <td>Barbayerba</td>\n",
              "    </tr>\n",
              "    <tr>\n",
              "      <th>6</th>\n",
              "      <td>RossaFlor1</td>\n",
              "      <td>¿Representando al pueblo peruano? Si fuera as...</td>\n",
              "      <td>Cuestion-de-confianza</td>\n",
              "      <td>1</td>\n",
              "      <td>2020-08-05 12:10:24</td>\n",
              "      <td>1290983490293506050</td>\n",
              "      <td>MariaCespedesc</td>\n",
              "      <td>RossaFlor1</td>\n",
              "    </tr>\n",
              "    <tr>\n",
              "      <th>7</th>\n",
              "      <td>Yosoyelkarma2</td>\n",
              "      <td>No sra. de ninguna manera ud. puede decir REP...</td>\n",
              "      <td>Cuestion-de-confianza</td>\n",
              "      <td>1</td>\n",
              "      <td>2020-08-05 11:44:41</td>\n",
              "      <td>1290977021259112448</td>\n",
              "      <td>MariaCespedesc</td>\n",
              "      <td>Yosoyelkarma2</td>\n",
              "    </tr>\n",
              "    <tr>\n",
              "      <th>8</th>\n",
              "      <td>BorgRoch</td>\n",
              "      <td>Ya fueron, señora.</td>\n",
              "      <td>Cuestion-de-confianza</td>\n",
              "      <td>1</td>\n",
              "      <td>2020-08-05 11:26:44</td>\n",
              "      <td>1290972503549054977</td>\n",
              "      <td>MariaCespedesc</td>\n",
              "      <td>BorgRoch</td>\n",
              "    </tr>\n",
              "    <tr>\n",
              "      <th>9</th>\n",
              "      <td>ARREGLARELPERU</td>\n",
              "      <td>SOLO CON HONESTOS ARREGLAMOS EL PERU</td>\n",
              "      <td>Cuestion-de-confianza</td>\n",
              "      <td>1</td>\n",
              "      <td>2020-08-05 10:29:00</td>\n",
              "      <td>1290957971963498503</td>\n",
              "      <td>MariaCespedesc</td>\n",
              "      <td>ARREGLARELPERU</td>\n",
              "    </tr>\n",
              "  </tbody>\n",
              "</table>\n",
              "</div>"
            ],
            "text/plain": [
              "          user-id  ...         replyBy\n",
              "0  MariaCespedesc  ...  MariaCespedesc\n",
              "1          TEXRA2  ...          TEXRA2\n",
              "2          TEXRA2  ...          TEXRA2\n",
              "3        vivefash  ...        vivefash\n",
              "4    Jose99092853  ...    Jose99092853\n",
              "5      Barbayerba  ...      Barbayerba\n",
              "6      RossaFlor1  ...      RossaFlor1\n",
              "7   Yosoyelkarma2  ...   Yosoyelkarma2\n",
              "8        BorgRoch  ...        BorgRoch\n",
              "9  ARREGLARELPERU  ...  ARREGLARELPERU\n",
              "\n",
              "[10 rows x 8 columns]"
            ]
          },
          "metadata": {
            "tags": []
          },
          "execution_count": 4
        }
      ]
    },
    {
      "cell_type": "code",
      "metadata": {
        "id": "DbcwMjpaxd4y",
        "colab_type": "code",
        "colab": {}
      },
      "source": [
        "translator = Translator()\n",
        "translations = {}\n",
        "for column in df.columns:\n",
        "    # Unique elements of the column\n",
        "    unique_elements = df[column].unique()\n",
        "    for element in unique_elements:\n",
        "        # Adding all the translations to a dictionary (translations)\n",
        "        translations[element] = translator.translate(element).text\n",
        "translations"
      ],
      "execution_count": null,
      "outputs": []
    }
  ]
}